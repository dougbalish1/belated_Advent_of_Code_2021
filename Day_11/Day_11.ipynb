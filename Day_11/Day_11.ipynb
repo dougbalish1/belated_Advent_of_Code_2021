{
 "cells": [
  {
   "cell_type": "markdown",
   "metadata": {},
   "source": [
    "# Challenge 1\n",
    "Simulate 100 steps. How many total flashes are there after 100 steps?"
   ]
  },
  {
   "cell_type": "code",
   "execution_count": 12,
   "metadata": {},
   "outputs": [],
   "source": [
    "class Octo:\n",
    "    def __init__(self, initEnergy, idx):\n",
    "        self.energy = initEnergy\n",
    "        self.blinks = 0\n",
    "        self.blinked = False\n",
    "        self.noNeighbors = True\n",
    "        self.neighbors = []\n",
    "        self.i = idx\n",
    "\n",
    "    def getNeighbors(self, j):\n",
    "        indices = [self.i - j - 1, self.i - j, self.i - j + 1,\n",
    "                self.i - 1, self.i + 1,\n",
    "                  self.i + j - 1, self.i + j, self.i + j + 1]\n",
    "        indices = [i for i in indices if (0 <= i) and (i < (j ** 2))]\n",
    "        indices = [i for i in indices if not ((self.i % j == 0) and ((i + 1) % j == 0))]\n",
    "        indices = [i for i in indices if not (((self.i + 1) % j == 0) and (i % j == 0))]\n",
    "        self.noNeighbors = False\n",
    "        self.neighbors = indices\n",
    "        #print(self.i)\n",
    "        #print(indices)\n",
    "\n",
    "    def blink(self, cave): #set blinked true, add one to blinks, add to and check any unblinked neighbors\n",
    "        if self.noNeighbors: self.getNeighbors(cave.dimensions)\n",
    "        self.blinked = True\n",
    "        self.blinks += 1\n",
    "        for i in self.neighbors:\n",
    "            cave.octos[i].energy += 1\n",
    "            if (cave.octos[i].energy > 9) and not cave.octos[i].blinked:\n",
    "                cave.octos[i].blink(cave)\n",
    "            \n",
    "\n",
    "class Cave:\n",
    "    def __init__(self, inFile):\n",
    "        self.octos = []\n",
    "        self.dimensions = 0\n",
    "        with open(inFile) as input:\n",
    "            idx = 0\n",
    "            while True:\n",
    "                octo = input.read(1)\n",
    "                if not octo: break\n",
    "                if octo == '\\n': continue\n",
    "                self.octos.append(Octo(int(octo), idx))\n",
    "                idx += 1\n",
    "        self.dimensions = int(idx ** 0.5)\n",
    "        #print(self.dimensions)\n",
    "\n",
    "    def check(self):\n",
    "        for octo in self.octos:\n",
    "            if not octo.blinked and octo.energy > 9: octo.blink(self)\n",
    "\n",
    "    def step(self):\n",
    "        #inc all energy, step 1\n",
    "        for octo in self.octos:\n",
    "            octo.energy += 1\n",
    "        #check all points for octo with enough energy\n",
    "        self.check()\n",
    "        #reset blinked octos\n",
    "        for octo in self.octos:\n",
    "            if octo.blinked:\n",
    "                octo.energy = 0\n",
    "                octo.blinked = False\n",
    "\n",
    "    def printRes(self):\n",
    "        output = 0\n",
    "        for octo in self.octos:\n",
    "            output += octo.blinks\n",
    "        print(output)\n",
    "    \n",
    "    def print(self):\n",
    "        for octo in self.octos:\n",
    "            print(octo.energy)"
   ]
  },
  {
   "cell_type": "code",
   "execution_count": 26,
   "metadata": {},
   "outputs": [
    {
     "name": "stdout",
     "output_type": "stream",
     "text": [
      " ████    █\n",
      "  ██      \n",
      "          \n",
      "          \n",
      "          \n",
      "          \n",
      "         █\n",
      "        ██\n",
      "       ███\n",
      "      ████\n",
      "\n"
     ]
    },
    {
     "data": {
      "text/plain": [
       "None"
      ]
     },
     "metadata": {},
     "output_type": "display_data"
    },
    {
     "name": "stdout",
     "output_type": "stream",
     "text": [
      "1757\n"
     ]
    }
   ],
   "source": [
    "layout = Cave('input_11.txt')\n",
    "i = 0\n",
    "while i < 100:\n",
    "    layout.step()\n",
    "    #layout.print()\n",
    "    i += 1\n",
    "layout.printRes()"
   ]
  },
  {
   "cell_type": "markdown",
   "metadata": {},
   "source": [
    "# Challenge 2\n",
    "Find when all octos are flashing in sync"
   ]
  },
  {
   "cell_type": "code",
   "execution_count": 25,
   "metadata": {},
   "outputs": [],
   "source": [
    "from IPython.display import display, clear_output\n",
    "from time import sleep \n",
    "\n",
    "class Octo:\n",
    "    def __init__(self, initEnergy, idx):\n",
    "        self.energy = initEnergy\n",
    "        self.blinks = 0\n",
    "        self.blinked = False\n",
    "        self.noNeighbors = True\n",
    "        self.neighbors = []\n",
    "        self.i = idx\n",
    "\n",
    "    def getNeighbors(self, j):\n",
    "        #Get indices of all potential valid neighbors \n",
    "        self.neighbors = [self.i - j - 1, self.i - j, self.i - j + 1, self.i - 1, self.i + 1, self.i + j - 1, self.i + j, self.i + j + 1]\n",
    "        #Remove invalid neighbors\n",
    "        #((0 <= i) and (i < (j ** 2))) - removes indices outside of array bounds, this covers top and bottom borders\n",
    "        # not ((self.i % j == 0) and ((i + 1) % j == 0)) - removes indices that would cause values on left to have neighbors 'wrapped' around to other side \n",
    "        # not (((self.i + 1) % j == 0) and (i % j == 0)) - as above, but for values on right side \n",
    "        self.neighbors = [i for i in self.neighbors if ((0 <= i) and (i < (j ** 2))) and not ((self.i % j == 0) and ((i + 1) % j == 0)) and not (((self.i + 1) % j == 0) and (i % j == 0))]\n",
    "        self.noNeighbors = False\n",
    "        \n",
    "    def blink(self, cave): #set blinked true, add one to blinks, add to and check any unblinked neighbors\n",
    "        if self.noNeighbors: self.getNeighbors(cave.dimensions)\n",
    "        self.blinked = True\n",
    "        self.blinks += 1\n",
    "        for i in self.neighbors:\n",
    "            cave.octos[i].energy += 1\n",
    "            if (cave.octos[i].energy > 9) and not cave.octos[i].blinked:\n",
    "                cave.octos[i].blink(cave)\n",
    "            \n",
    "\n",
    "class Cave:\n",
    "    def __init__(self, inFile):\n",
    "        self.octos = []\n",
    "        self.dimensions = 0\n",
    "        self.flag = True\n",
    "        with open(inFile) as input:\n",
    "            idx = 0\n",
    "            while True:\n",
    "                octo = input.read(1)\n",
    "                if not octo: break\n",
    "                if octo == '\\n': continue\n",
    "                self.octos.append(Octo(int(octo), idx))\n",
    "                idx += 1\n",
    "        self.dimensions = int(idx ** 0.5)\n",
    "\n",
    "    def check(self):\n",
    "        for octo in self.octos:\n",
    "            if not octo.blinked and octo.energy > 9: octo.blink(self)\n",
    "        numSynced = 0\n",
    "        for octo in self.octos:\n",
    "            if octo.blinked: numSynced += 1\n",
    "        if numSynced == self.dimensions ** 2: \n",
    "            self.flag = False\n",
    "\n",
    "    def step(self):\n",
    "        #inc all energy, step 1\n",
    "        for octo in self.octos:\n",
    "            octo.energy += 1\n",
    "        #check all points for octo with enough energy\n",
    "        self.check()\n",
    "        #reset blinked octos\n",
    "        for octo in self.octos:\n",
    "            if octo.blinked:\n",
    "                octo.energy = 0\n",
    "                octo.blinked = False\n",
    "        self.print()\n",
    "\n",
    "    def printRes(self):\n",
    "        output = 0\n",
    "        for octo in self.octos:\n",
    "            output += octo.blinks\n",
    "        print(output)\n",
    "    \n",
    "    def print(self):\n",
    "        clear_output(wait=True)\n",
    "        grid = ''\n",
    "        for i in range(self.dimensions):\n",
    "            line = [octo.energy for octo in self.octos[self.dimensions * i : self.dimensions + self.dimensions * i]]\n",
    "            grid += ''.join([' ' if item != 0 else '█' for item in line])\n",
    "            grid += '\\n'\n",
    "        display(print(grid))\n",
    "        sleep(.05)\n",
    "       "
   ]
  },
  {
   "cell_type": "code",
   "execution_count": 27,
   "metadata": {},
   "outputs": [
    {
     "name": "stdout",
     "output_type": "stream",
     "text": [
      "██████████\n",
      "██████████\n",
      "██████████\n",
      "██████████\n",
      "██████████\n",
      "██████████\n",
      "██████████\n",
      "██████████\n",
      "██████████\n",
      "██████████\n",
      "\n"
     ]
    },
    {
     "data": {
      "text/plain": [
       "None"
      ]
     },
     "metadata": {},
     "output_type": "display_data"
    },
    {
     "name": "stdout",
     "output_type": "stream",
     "text": [
      "422\n",
      "6851\n"
     ]
    }
   ],
   "source": [
    "layout = Cave('input_11.txt')\n",
    "i = 0\n",
    "while layout.flag:\n",
    "    layout.step()\n",
    "    i += 1\n",
    "print(i)\n",
    "layout.printRes()"
   ]
  },
  {
   "cell_type": "code",
   "execution_count": null,
   "metadata": {},
   "outputs": [],
   "source": []
  }
 ],
 "metadata": {
  "interpreter": {
   "hash": "916dbcbb3f70747c44a77c7bcd40155683ae19c65e1c03b4aa3499c5328201f1"
  },
  "kernelspec": {
   "display_name": "Python 3.8.10 64-bit",
   "language": "python",
   "name": "python3"
  },
  "language_info": {
   "codemirror_mode": {
    "name": "ipython",
    "version": 3
   },
   "file_extension": ".py",
   "mimetype": "text/x-python",
   "name": "python",
   "nbconvert_exporter": "python",
   "pygments_lexer": "ipython3",
   "version": "3.8.10"
  },
  "orig_nbformat": 4
 },
 "nbformat": 4,
 "nbformat_minor": 2
}
