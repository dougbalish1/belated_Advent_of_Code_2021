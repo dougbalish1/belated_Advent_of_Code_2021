{
 "cells": [
  {
   "cell_type": "markdown",
   "metadata": {},
   "source": [
    "# Challenge 1\n",
    "Find the best place for crabs to align minimizing fuel cost "
   ]
  },
  {
   "cell_type": "code",
   "execution_count": 21,
   "metadata": {},
   "outputs": [
    {
     "name": "stdout",
     "output_type": "stream",
     "text": [
      "337488\n",
      "372\n"
     ]
    }
   ],
   "source": [
    "input = open('input_7.txt')\n",
    "crabSubs = list(map(int, input.readline().split(',')))\n",
    "prevFuel = 0\n",
    "targetPos = 0\n",
    "go = True\n",
    "\n",
    "while(go):\n",
    "    curFuel = 0\n",
    "    for pos in crabSubs:\n",
    "        curFuel += abs(targetPos - pos)\n",
    "    if curFuel > prevFuel and targetPos != 0:\n",
    "        go = False\n",
    "        print(prevFuel)\n",
    "        print(str(targetPos - 1))\n",
    "    targetPos += 1\n",
    "    prevFuel = curFuel\n",
    "    "
   ]
  },
  {
   "cell_type": "markdown",
   "metadata": {},
   "source": [
    "# Challenge 2\n",
    "Crabs burn fuel at higher rate per movement "
   ]
  },
  {
   "cell_type": "code",
   "execution_count": 20,
   "metadata": {},
   "outputs": [
    {
     "name": "stdout",
     "output_type": "stream",
     "text": [
      "89647695\n",
      "480\n"
     ]
    }
   ],
   "source": [
    "input = open('input_7.txt')\n",
    "crabSubs = list(map(int, input.readline().split(',')))\n",
    "prevFuel = 0\n",
    "targetPos = 0\n",
    "go = True\n",
    "\n",
    "while(go):\n",
    "    curFuel = 0\n",
    "    for pos in crabSubs:\n",
    "        curFuel += sum(range(1, abs(targetPos - pos) + 1))\n",
    "    if curFuel > prevFuel and targetPos != 0:\n",
    "        go = False\n",
    "        print(prevFuel)\n",
    "        print(str(targetPos - 1))\n",
    "    targetPos += 1\n",
    "    prevFuel = curFuel"
   ]
  }
 ],
 "metadata": {
  "interpreter": {
   "hash": "916dbcbb3f70747c44a77c7bcd40155683ae19c65e1c03b4aa3499c5328201f1"
  },
  "kernelspec": {
   "display_name": "Python 3.8.10 64-bit",
   "language": "python",
   "name": "python3"
  },
  "language_info": {
   "codemirror_mode": {
    "name": "ipython",
    "version": 3
   },
   "file_extension": ".py",
   "mimetype": "text/x-python",
   "name": "python",
   "nbconvert_exporter": "python",
   "pygments_lexer": "ipython3",
   "version": "3.8.10"
  },
  "orig_nbformat": 4
 },
 "nbformat": 4,
 "nbformat_minor": 2
}
