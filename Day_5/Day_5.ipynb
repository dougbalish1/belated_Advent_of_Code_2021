{
 "cells": [
  {
   "cell_type": "markdown",
   "metadata": {},
   "source": [
    "# Challenge 1\n",
    "Find overlapping hydrothermal clouds in 2D grid representation "
   ]
  },
  {
   "cell_type": "code",
   "execution_count": 1,
   "metadata": {},
   "outputs": [],
   "source": [
    "import numpy as np"
   ]
  },
  {
   "cell_type": "code",
   "execution_count": 2,
   "metadata": {},
   "outputs": [],
   "source": [
    "grid = np.zeros(shape=(1000,1000), dtype=np.int8)\n",
    "\n",
    "with open('input_5.txt') as input:\n",
    "    for line in [line2.split(' ') for line2 in input.readlines()]:\n",
    "        x1, y1 = [int(num) for num in line[0].split(',')]\n",
    "        x2, y2 = [int(num) for num in line[2].split(',')]\n",
    "        if (grid.shape[0] <= max(y1,y2) or grid.shape[1] <= max(x1,x2)):\n",
    "            grid.resize(max(y1,y2),max(x1,x2), refcheck=False)\n",
    "        if x1 == x2:\n",
    "            grid[min(y1,y2):max(y1,y2)+1, x1] += 1\n",
    "        elif y1 == y2:\n",
    "            grid[y1, min(x1,x2):max(x1,x2)+1] += 1\n",
    "danger = 0\n",
    "for val in grid.flatten():\n",
    "    danger += 1 if val > 1 else 0"
   ]
  },
  {
   "cell_type": "code",
   "execution_count": 3,
   "metadata": {},
   "outputs": [
    {
     "data": {
      "text/plain": [
       "7436"
      ]
     },
     "execution_count": 3,
     "metadata": {},
     "output_type": "execute_result"
    }
   ],
   "source": [
    "danger"
   ]
  },
  {
   "cell_type": "markdown",
   "metadata": {},
   "source": [
    "# Challenge 2\n",
    "Find overlapping hydrothermal clouds in 2D grid representation, accounting for diagonals "
   ]
  },
  {
   "cell_type": "code",
   "execution_count": 4,
   "metadata": {},
   "outputs": [],
   "source": [
    "grid = np.zeros(shape=(1000,1000), dtype=np.int8)\n",
    "\n",
    "with open('input_5.txt') as input:\n",
    "    for line in [line2.split(' ') for line2 in input.readlines()]:\n",
    "        x1, y1 = [int(num) for num in line[0].split(',')]\n",
    "        x2, y2 = [int(num) for num in line[2].split(',')]\n",
    "        if (grid.shape[0] <= max(y1,y2) or grid.shape[1] <= max(x1,x2)):\n",
    "            grid.resize(max(y1,y2),max(x1,x2), refcheck=False)\n",
    "        if x1 == x2:\n",
    "            grid[min(y1,y2):max(y1,y2)+1, x1] += 1\n",
    "        elif y1 == y2:\n",
    "            grid[y1, min(x1,x2):max(x1,x2)+1] += 1\n",
    "        else:\n",
    "            grid[y1,x1] += 1 \n",
    "            while x1 != x2:\n",
    "                y1 += 1 if y1 < y2 else -1\n",
    "                x1 += 1 if x1 < x2 else -1\n",
    "                grid[y1,x1] += 1 \n",
    "danger = 0\n",
    "for val in grid.flatten():\n",
    "    danger += 1 if val > 1 else 0"
   ]
  },
  {
   "cell_type": "code",
   "execution_count": 5,
   "metadata": {},
   "outputs": [
    {
     "data": {
      "text/plain": [
       "21104"
      ]
     },
     "execution_count": 5,
     "metadata": {},
     "output_type": "execute_result"
    }
   ],
   "source": [
    "danger"
   ]
  }
 ],
 "metadata": {
  "interpreter": {
   "hash": "916dbcbb3f70747c44a77c7bcd40155683ae19c65e1c03b4aa3499c5328201f1"
  },
  "kernelspec": {
   "display_name": "Python 3.8.10 64-bit",
   "language": "python",
   "name": "python3"
  },
  "language_info": {
   "codemirror_mode": {
    "name": "ipython",
    "version": 3
   },
   "file_extension": ".py",
   "mimetype": "text/x-python",
   "name": "python",
   "nbconvert_exporter": "python",
   "pygments_lexer": "ipython3",
   "version": "3.8.10"
  },
  "orig_nbformat": 4
 },
 "nbformat": 4,
 "nbformat_minor": 2
}
