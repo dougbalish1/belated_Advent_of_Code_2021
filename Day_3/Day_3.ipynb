{
 "cells": [
  {
   "cell_type": "markdown",
   "metadata": {},
   "source": [
    "# Challenge 1\n",
    "Determine 'power consumption' rate from bits of output"
   ]
  },
  {
   "cell_type": "code",
   "execution_count": null,
   "metadata": {},
   "outputs": [],
   "source": [
    "input = open('input_3.txt')\n",
    "\n",
    "output = [0]*(len(input.readline()) - 1)\n",
    "gamma = 0\n",
    "epsilon = 0\n",
    "\n",
    "for line in input:\n",
    "    for i in range(len(line) - 1):\n",
    "        output[i] += (1 if (int(line[i]) == 1) else -1)\n",
    "\n",
    "for bit in output:\n",
    "    gamma = (gamma << 1) | (0 if (bit < 0) else 1)\n",
    "    epsilon = (epsilon << 1) | (1 if (bit < 0) else 0)\n",
    "\n",
    "gamma * epsilon"
   ]
  },
  {
   "cell_type": "markdown",
   "metadata": {},
   "source": [
    "# Challenge 2\n",
    "Use the binary numbers in your diagnostic report to calculate the oxygen generator rating and CO2 scrubber rating, then multiply them together."
   ]
  },
  {
   "cell_type": "code",
   "execution_count": 8,
   "metadata": {},
   "outputs": [
    {
     "data": {
      "text/plain": [
       "1800151"
      ]
     },
     "execution_count": 8,
     "metadata": {},
     "output_type": "execute_result"
    }
   ],
   "source": [
    "input = open('input_3.txt')\n",
    "\n",
    "O2list = []\n",
    "CO2list = []\n",
    "\n",
    "for line in input:\n",
    "    O2list.append(line.split()[0])\n",
    "    CO2list.append(line.split()[0])\n",
    "\n",
    "idx = 0\n",
    "\n",
    "while(len(O2list) > 1 or len(CO2list) > 1):\n",
    "    if len(O2list) > 1:\n",
    "        MCB = 1 if (sum([int(bits[idx]) for bits in O2list])) >= (len(O2list)/2) else 0\n",
    "        O2list = [bits for bits in O2list if int(bits[idx]) == MCB]\n",
    "    if len(CO2list) > 1:\n",
    "        LCB = 0 if (sum([int(bits[idx]) for bits in CO2list])) >= (len(CO2list)/2) else 1\n",
    "        CO2list = [bits for bits in CO2list if int(bits[idx]) == LCB]\n",
    "    idx += 1\n",
    "\n",
    "O2 = int(O2list[0], 2)\n",
    "CO2 = int(CO2list[0], 2)\n",
    "\n",
    "O2 * CO2\n"
   ]
  },
  {
   "cell_type": "markdown",
   "metadata": {},
   "source": [
    "# Someone elses solution\n",
    "### Just found it interesting, wanted to leave it to look back on \n",
    "[Source](https://github.com/MasterMedo/aoc/blob/master/2021/day/3.py)"
   ]
  },
  {
   "cell_type": "code",
   "execution_count": 9,
   "metadata": {},
   "outputs": [
    {
     "name": "stdout",
     "output_type": "stream",
     "text": [
      "1800151\n"
     ]
    }
   ],
   "source": [
    "with open(\"input_3.txt\") as f:\n",
    "    data = [list(line.strip()) for line in f]\n",
    "\n",
    "def part_2(codes, common):\n",
    "    for i in range(len(data[0])):\n",
    "        zeros = sum(code[i] == \"0\" for code in codes)\n",
    "        ones = len(codes) - zeros\n",
    "        common_bit = \"01\"[(ones >= zeros) ^ common]\n",
    "        codes = [code for code in codes if code[i] == common_bit]\n",
    "        if len(codes) == 1:\n",
    "            return int(\"\".join(codes[0]), 2)\n",
    "\n",
    "\n",
    "print(part_2(data[:], True) * part_2(data[:], False))"
   ]
  }
 ],
 "metadata": {
  "interpreter": {
   "hash": "916dbcbb3f70747c44a77c7bcd40155683ae19c65e1c03b4aa3499c5328201f1"
  },
  "kernelspec": {
   "display_name": "Python 3.8.10 64-bit",
   "language": "python",
   "name": "python3"
  },
  "language_info": {
   "codemirror_mode": {
    "name": "ipython",
    "version": 3
   },
   "file_extension": ".py",
   "mimetype": "text/x-python",
   "name": "python",
   "nbconvert_exporter": "python",
   "pygments_lexer": "ipython3",
   "version": "3.8.10"
  },
  "orig_nbformat": 4
 },
 "nbformat": 4,
 "nbformat_minor": 2
}
