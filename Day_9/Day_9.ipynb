{
 "cells": [
  {
   "cell_type": "markdown",
   "metadata": {},
   "source": [
    "# Challenge 1\n",
    "Find low points in heightmap of lava tubes"
   ]
  },
  {
   "cell_type": "code",
   "execution_count": 1,
   "metadata": {},
   "outputs": [
    {
     "data": {
      "text/plain": [
       "502"
      ]
     },
     "execution_count": 1,
     "metadata": {},
     "output_type": "execute_result"
    }
   ],
   "source": [
    "input = open('input_9.txt')\n",
    "inputs = input.readlines()\n",
    "riskSum = 0\n",
    "\n",
    "for y in range(len(inputs)):\n",
    "    for x in range(len(inputs[y]) - 1):\n",
    "        cur = int(inputs[y][x])\n",
    "        try:\n",
    "            up = int(inputs[y-1][x])\n",
    "        except:\n",
    "            up = 10\n",
    "        try:\n",
    "            down = int(inputs[y+1][x])\n",
    "        except:\n",
    "            down = 10\n",
    "        try:\n",
    "            left = int(inputs[y][x-1])\n",
    "        except:\n",
    "            left = 10\n",
    "        try:\n",
    "            right = int(inputs[y][x+1])\n",
    "        except:\n",
    "            right = 10\n",
    "        if((cur < up) and (cur < down) and (cur < left) and (cur < right)):\n",
    "            riskSum += (cur + 1)\n",
    "riskSum"
   ]
  },
  {
   "cell_type": "markdown",
   "metadata": {},
   "source": [
    "# Challenge 2\n",
    "### ooooh a little recursion\n",
    "Map out 'basins' around low points, finding 3 largest "
   ]
  },
  {
   "cell_type": "code",
   "execution_count": 2,
   "metadata": {},
   "outputs": [],
   "source": [
    "class Cell:\n",
    "    def __init__(self, value):\n",
    "        self.height = value\n",
    "        self.mapped = True if (self.height == 9) else False\n",
    "\n",
    "def basinFill(r, c, cellMat):\n",
    "    if cellMat[r][c].mapped == True:\n",
    "        return 0\n",
    "    basinSize = 1\n",
    "    cellMat[r][c].mapped = True\n",
    "    if((r - 1) >= 0):\n",
    "        basinSize += basinFill((r - 1), c, cellMat)\n",
    "    if((r + 1) < len(cellMat)):\n",
    "        basinSize += basinFill((r + 1), c, cellMat)\n",
    "    if((c - 1) >= 0):\n",
    "        basinSize += basinFill(r, (c - 1), cellMat)\n",
    "    if((c + 1) < len(cellMat)):\n",
    "        basinSize += basinFill(r, (c + 1), cellMat)\n",
    "    return basinSize\n"
   ]
  },
  {
   "cell_type": "code",
   "execution_count": 3,
   "metadata": {},
   "outputs": [
    {
     "name": "stdout",
     "output_type": "stream",
     "text": [
      "1330560\n"
     ]
    }
   ],
   "source": [
    "input = open('input_9.txt')\n",
    "cellMat = []\n",
    "\n",
    "for line in input.readlines():\n",
    "    cellRow = []\n",
    "    for value in line:\n",
    "        if value != '\\n':\n",
    "            cellRow.append(Cell(int(value)))\n",
    "    cellMat.append(cellRow)\n",
    "\n",
    "lenList = []\n",
    "\n",
    "for row in range(len(cellMat)):\n",
    "    for col in range(len(cellMat[row])):\n",
    "        if cellMat[row][col].mapped == False:\n",
    "            lenList.append(basinFill(row, col, cellMat))\n",
    "\n",
    "lenList.sort(reverse=True)\n",
    "print((lenList[0] * lenList[1] * lenList[2]))"
   ]
  }
 ],
 "metadata": {
  "interpreter": {
   "hash": "916dbcbb3f70747c44a77c7bcd40155683ae19c65e1c03b4aa3499c5328201f1"
  },
  "kernelspec": {
   "display_name": "Python 3.8.10 64-bit",
   "language": "python",
   "name": "python3"
  },
  "language_info": {
   "codemirror_mode": {
    "name": "ipython",
    "version": 3
   },
   "file_extension": ".py",
   "mimetype": "text/x-python",
   "name": "python",
   "nbconvert_exporter": "python",
   "pygments_lexer": "ipython3",
   "version": "3.8.10"
  },
  "orig_nbformat": 4
 },
 "nbformat": 4,
 "nbformat_minor": 2
}
