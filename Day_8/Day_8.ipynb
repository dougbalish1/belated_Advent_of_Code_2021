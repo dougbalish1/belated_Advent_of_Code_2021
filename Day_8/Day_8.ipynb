{
 "cells": [
  {
   "cell_type": "markdown",
   "metadata": {},
   "source": [
    "# Challenge 1\n",
    "Count unique outputs in scrambled 7 segment display "
   ]
  },
  {
   "cell_type": "code",
   "execution_count": null,
   "metadata": {},
   "outputs": [],
   "source": [
    "input = open('input_8.txt')\n",
    "inputs = [line.split(' ') for line in input.readlines()]\n",
    "digits_1_4_7_8 = 0\n",
    "\n",
    "for i in range(len(inputs)):\n",
    "    for j in range(11,15):\n",
    "        char = len(inputs[i][j].strip('\\n'))\n",
    "        if (char < 5) or (char == 7):\n",
    "            digits_1_4_7_8 +=1\n",
    "\n",
    "digits_1_4_7_8"
   ]
  },
  {
   "cell_type": "markdown",
   "metadata": {},
   "source": [
    "# Challenge 2 WIP\n",
    "## Actually decode the display and sum results \n",
    "Not super pretty, but it works very well "
   ]
  },
  {
   "cell_type": "code",
   "execution_count": 20,
   "metadata": {},
   "outputs": [],
   "source": [
    "def count(str1, str2): \n",
    "    c, j = 0, 0\n",
    "    for i in str1:    \n",
    "        if str2.find(i)>= 0 and j == str1.find(i): \n",
    "            c += 1\n",
    "        j += 1\n",
    "    return c"
   ]
  },
  {
   "cell_type": "code",
   "execution_count": 21,
   "metadata": {},
   "outputs": [],
   "source": [
    "input = open('input_8.txt')\n",
    "inputs = [line.split(' ') for line in input.readlines()]"
   ]
  },
  {
   "cell_type": "code",
   "execution_count": 23,
   "metadata": {},
   "outputs": [
    {
     "data": {
      "text/plain": [
       "1073431"
      ]
     },
     "execution_count": 23,
     "metadata": {},
     "output_type": "execute_result"
    }
   ],
   "source": [
    "\n",
    "totalDigits = 0\n",
    "for i in range(len(inputs)):\n",
    "    inputs[i][-1] = inputs[i][-1].strip('\\n')\n",
    "    contains = [''] * 10\n",
    "    contains[1] = next(one for one in inputs[i] if len(one) == 2)\n",
    "    contains[4] = next(one for one in inputs[i] if len(one) == 4)\n",
    "    contains[7] = next(one for one in inputs[i] if len(one) == 3)\n",
    "    contains[8] = next(one for one in inputs[i] if len(one) == 7)\n",
    "    for j in range(10):\n",
    "        numSegs = len(inputs[i][j])\n",
    "        if (numSegs == 5):\n",
    "            if count(contains[1], inputs[i][j]) == 2:\n",
    "                contains[3] = inputs[i][j]\n",
    "            elif (count(contains[1], inputs[i][j]) == 1) and (count(contains[4], inputs[i][j]) == 2):\n",
    "                contains[2] = inputs[i][j]\n",
    "            elif (count(contains[1], inputs[i][j]) == 1) and (count(contains[4], inputs[i][j]) == 3):\n",
    "                contains[5] = inputs[i][j]\n",
    "        elif (numSegs == 6):\n",
    "            if (count(contains[1], inputs[i][j]) == 2) and (count(contains[4], inputs[i][j]) == 3):\n",
    "                contains[0] = inputs[i][j]\n",
    "            elif (count(contains[1], inputs[i][j]) == 1) and (count(contains[4], inputs[i][j]) == 3):\n",
    "                contains[6] = inputs[i][j]\n",
    "            elif (count(contains[1], inputs[i][j]) == 2) and (count(contains[7], inputs[i][j]) == 3):\n",
    "                contains[9] = inputs[i][j]\n",
    "    finalNum = ''\n",
    "    for j in range(11,15):\n",
    "        for x in range(10):\n",
    "            if (count(contains[x], inputs[i][j]) == len(contains[x])) and (len(contains[x]) == len(inputs[i][j])):\n",
    "                finalNum += str(x)\n",
    "                break\n",
    "    totalDigits += int(finalNum)\n",
    "totalDigits\n"
   ]
  }
 ],
 "metadata": {
  "interpreter": {
   "hash": "916dbcbb3f70747c44a77c7bcd40155683ae19c65e1c03b4aa3499c5328201f1"
  },
  "kernelspec": {
   "display_name": "Python 3.8.10 64-bit",
   "language": "python",
   "name": "python3"
  },
  "language_info": {
   "codemirror_mode": {
    "name": "ipython",
    "version": 3
   },
   "file_extension": ".py",
   "mimetype": "text/x-python",
   "name": "python",
   "nbconvert_exporter": "python",
   "pygments_lexer": "ipython3",
   "version": "3.8.10"
  },
  "orig_nbformat": 4
 },
 "nbformat": 4,
 "nbformat_minor": 2
}
