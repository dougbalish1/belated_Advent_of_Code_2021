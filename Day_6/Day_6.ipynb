{
 "cells": [
  {
   "cell_type": "markdown",
   "metadata": {},
   "source": [
    "# Challenge 1\n",
    "Simulate a fish population"
   ]
  },
  {
   "cell_type": "code",
   "execution_count": null,
   "metadata": {},
   "outputs": [],
   "source": [
    "input = open('input_6.txt')\n",
    "fishPop = list(map(int, input.readline().split(',')))\n",
    "\n",
    "for day in range(10):\n",
    "    for i in range(len(fishPop)):\n",
    "        if fishPop[i] == 0:\n",
    "            fishPop[i] = 6\n",
    "            fishPop.append(8)\n",
    "        else:\n",
    "            fishPop[i] -= 1\n",
    "print(len(fishPop))"
   ]
  },
  {
   "cell_type": "markdown",
   "metadata": {},
   "source": [
    "# Challenge 2\n",
    "The same thing but bigger, a new approach is needed for 256 days"
   ]
  },
  {
   "cell_type": "code",
   "execution_count": null,
   "metadata": {},
   "outputs": [],
   "source": [
    "input = open('input_6.txt')\n",
    "fishPop = list(map(int, input.readline().split(',')))\n",
    "totalFish = 0\n",
    "\n",
    "for i in range(len(fishPop)):\n",
    "    familyTree = [fishPop[i]]\n",
    "    for day in range(256):\n",
    "        for i in range(len(familyTree)):\n",
    "            if familyTree[i] == 0:\n",
    "                familyTree[i] = 6\n",
    "                familyTree.append(8)\n",
    "            else:\n",
    "                familyTree[i] -= 1\n",
    "        print(day)\n",
    "    totalFish += len(familyTree)\n",
    "\n",
    "totalFish"
   ]
  },
  {
   "cell_type": "code",
   "execution_count": null,
   "metadata": {},
   "outputs": [],
   "source": [
    "import queue\n",
    "fishQ = queue.LifoQueue()\n",
    "input = open('input_6.txt')\n",
    "fishPop = list(map(int, input.readline().split(',')))\n",
    "\n",
    "class Fish:\n",
    "    def __init__(self, daySpawned, daysToLive, timer=8):\n",
    "        self.day = daySpawned\n",
    "        self.timer = timer\n",
    "        self.lastDay = daysToLive\n",
    "    \n",
    "    def live(self):\n",
    "        while self.day < self.lastDay:\n",
    "            if self.timer == 0:\n",
    "                fishQ.put(Fish(self.day + 1, self.lastDay))\n",
    "                self.day += 7\n",
    "            else:\n",
    "                self.timer -= 1\n",
    "                self.day += 1\n",
    "\n",
    "for fish in fishPop:\n",
    "    fishQ.put(Fish(0, 256, fish))"
   ]
  },
  {
   "cell_type": "code",
   "execution_count": null,
   "metadata": {},
   "outputs": [],
   "source": [
    "finalFish = 0\n",
    "while(not fishQ.empty()):\n",
    "    curFish = fishQ.get()\n",
    "    curFish.live()\n",
    "    del curFish\n",
    "    finalFish += 1"
   ]
  },
  {
   "cell_type": "markdown",
   "metadata": {},
   "source": [
    "# So, that was not the move \n",
    "## This is definitely a more scalable way. \n",
    "### Wish I took the hint \"maybe exponentially quickly\"\n",
    "I thought we might need more detailed modeling ok :'("
   ]
  },
  {
   "cell_type": "code",
   "execution_count": null,
   "metadata": {},
   "outputs": [],
   "source": [
    "import collections\n",
    "input = open('input_6.txt')\n",
    "fishPop = list(map(int, input.readline().split(',')))\n",
    "count = collections.deque([0] * 9)\n",
    "for fish in fishPop:\n",
    "    count[fish] += 1\n",
    "\n",
    "for day in range(200):\n",
    "    tmp, count[0] = count[0], 0\n",
    "    count.rotate(-1)\n",
    "    count[6] += tmp\n",
    "    count[8] += tmp"
   ]
  },
  {
   "cell_type": "code",
   "execution_count": null,
   "metadata": {},
   "outputs": [],
   "source": [
    "sum(count)"
   ]
  },
  {
   "cell_type": "code",
   "execution_count": null,
   "metadata": {},
   "outputs": [],
   "source": [
    "import itertools\n",
    "list1 = [str(interger) for interger in range(44)]\n",
    "combinations = itertools.combinations(list1, 9)\n",
    "meal_sets = list(combinations)"
   ]
  }
 ],
 "metadata": {
  "interpreter": {
   "hash": "916dbcbb3f70747c44a77c7bcd40155683ae19c65e1c03b4aa3499c5328201f1"
  },
  "kernelspec": {
   "display_name": "Python 3.8.10 64-bit",
   "language": "python",
   "name": "python3"
  },
  "language_info": {
   "codemirror_mode": {
    "name": "ipython",
    "version": 3
   },
   "file_extension": ".py",
   "mimetype": "text/x-python",
   "name": "python",
   "nbconvert_exporter": "python",
   "pygments_lexer": "ipython3",
   "version": "3.8.10"
  },
  "orig_nbformat": 4
 },
 "nbformat": 4,
 "nbformat_minor": 2
}
