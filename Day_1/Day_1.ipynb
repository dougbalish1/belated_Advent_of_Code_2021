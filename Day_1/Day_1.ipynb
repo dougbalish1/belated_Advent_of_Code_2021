{
 "cells": [
  {
   "cell_type": "markdown",
   "metadata": {},
   "source": [
    "# Challenge 1\n",
    "Count the number of times the number increases between lines"
   ]
  },
  {
   "cell_type": "code",
   "execution_count": 7,
   "metadata": {},
   "outputs": [
    {
     "data": {
      "text/plain": [
       "1466"
      ]
     },
     "execution_count": 7,
     "metadata": {},
     "output_type": "execute_result"
    }
   ],
   "source": [
    "input = open('input_1.txt')\n",
    "\n",
    "increases = 0\n",
    "prev = input.readline()\n",
    "\n",
    "for line in input:\n",
    "    if (int(line) > int(prev)):\n",
    "        increases+=1\n",
    "    prev = line\n",
    "increases"
   ]
  },
  {
   "cell_type": "markdown",
   "metadata": {},
   "source": [
    "# Challenge 2\n",
    "Count the number of times the sum of measurements in a length 3 sliding window increases"
   ]
  },
  {
   "cell_type": "code",
   "execution_count": 2,
   "metadata": {},
   "outputs": [
    {
     "data": {
      "text/plain": [
       "1491"
      ]
     },
     "execution_count": 2,
     "metadata": {},
     "output_type": "execute_result"
    }
   ],
   "source": [
    "input = open('input_1.txt')\n",
    "inputL = list(map(int,input.read().splitlines()))\n",
    "A = 4\n",
    "B = 3\n",
    "increases = 0\n",
    "\n",
    "while A <= len(inputL):\n",
    "    windowA = sum(inputL[A-3:A])\n",
    "    windowB = sum(inputL[B-3:B])\n",
    "    increases = increases + (1 if windowA > windowB else 0)\n",
    "    A+=1\n",
    "    B+=1\n",
    "\n",
    "increases"
   ]
  },
  {
   "cell_type": "code",
   "execution_count": null,
   "metadata": {},
   "outputs": [],
   "source": []
  }
 ],
 "metadata": {
  "interpreter": {
   "hash": "916dbcbb3f70747c44a77c7bcd40155683ae19c65e1c03b4aa3499c5328201f1"
  },
  "kernelspec": {
   "display_name": "Python 3.8.10 64-bit",
   "language": "python",
   "name": "python3"
  },
  "language_info": {
   "codemirror_mode": {
    "name": "ipython",
    "version": 3
   },
   "file_extension": ".py",
   "mimetype": "text/x-python",
   "name": "python",
   "nbconvert_exporter": "python",
   "pygments_lexer": "ipython3",
   "version": "3.8.10"
  },
  "orig_nbformat": 4
 },
 "nbformat": 4,
 "nbformat_minor": 2
}
