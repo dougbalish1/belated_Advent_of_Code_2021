{
 "cells": [
  {
   "cell_type": "markdown",
   "metadata": {},
   "source": [
    "# Challenge 1\n",
    "Find the first illegal character in each corrupted line of the navigation subsystem. What is the total syntax error score for those errors?"
   ]
  },
  {
   "cell_type": "code",
   "execution_count": null,
   "metadata": {},
   "outputs": [],
   "source": [
    "from collections import deque\n",
    "\n",
    "closers = {')':3, ']':57, '}':1197, '>':25137}\n",
    "\n",
    "class symbol:\n",
    "    def __init__(self, openr):\n",
    "        self.closer = chr(ord(openr) + 1) if (openr == '(') else chr(ord(openr) + 2)"
   ]
  },
  {
   "cell_type": "code",
   "execution_count": null,
   "metadata": {},
   "outputs": [],
   "source": [
    "input = open('input_10.txt')\n",
    "errorScore = 0\n",
    "\n",
    "for line in input.readlines():\n",
    "    symstack = deque()\n",
    "    for sym in line.strip('\\n'):\n",
    "        if sym in ['(', '[', '{', '<']:\n",
    "            symstack.append(symbol(sym))\n",
    "        else:\n",
    "            tmp = symstack.pop()\n",
    "            if(sym != tmp.closer):\n",
    "                errorScore += closers[sym]\n",
    "            \n",
    "\n",
    "print(errorScore)"
   ]
  },
  {
   "cell_type": "markdown",
   "metadata": {},
   "source": [
    "# Challenge 2\n",
    "Pretty similar, instead of detecting 'corrupt' lines, autocomplete ones that are unfinished. Scoring is gonna be the hardest part:\n",
    "The score is determined by considering the completion string character-by-character. Start with a total score of 0. Then, for each character, multiply the total score by 5 and then increase the total score by the point value given for the character in the following table:\n",
    "\n",
    "): 1 point. \n",
    "\n",
    "]: 2 points.\n",
    "\n",
    "}: 3 points.\n",
    "\n",
    "\\>: 4 points.\n",
    "\n",
    "Then sort all scores for all lines and get middle "
   ]
  },
  {
   "cell_type": "code",
   "execution_count": 19,
   "metadata": {},
   "outputs": [],
   "source": [
    "from collections import deque\n",
    "closers = {')':1, ']':2, '}':3, '>':4}\n",
    "\n",
    "class symbol:\n",
    "    def __init__(self, openr):\n",
    "        self.closer = chr(ord(openr) + 1) if (openr == '(') else chr(ord(openr) + 2)\n",
    "\n",
    "def getScore(stack):\n",
    "    lineScore = 0\n",
    "    while stack:\n",
    "        tmp = stack.pop()\n",
    "        lineScore = ((lineScore * 5) + closers[tmp.closer])\n",
    "    return lineScore\n",
    "\n",
    "def completeLine(line):\n",
    "    symstack = deque()\n",
    "    for sym in line:\n",
    "        if sym in ['(', '[', '{', '<']:\n",
    "            symstack.append(symbol(sym))\n",
    "        elif sym != '\\n':\n",
    "            tmp = symstack.pop()\n",
    "            if(sym != tmp.closer):\n",
    "                return 0\n",
    "        else:\n",
    "            return getScore(symstack)"
   ]
  },
  {
   "cell_type": "code",
   "execution_count": 24,
   "metadata": {},
   "outputs": [
    {
     "name": "stdout",
     "output_type": "stream",
     "text": [
      "3515583998\n"
     ]
    }
   ],
   "source": [
    "input = open('input_10.txt')\n",
    "ACScores = []\n",
    "\n",
    "for line in input.readlines():\n",
    "    retVal = completeLine(line)\n",
    "    if retVal > 0:\n",
    "        ACScores.append(retVal)\n",
    "\n",
    "ACScores.sort()\n",
    "\n",
    "print(ACScores[int((len(ACScores) - 1)/2)])"
   ]
  }
 ],
 "metadata": {
  "interpreter": {
   "hash": "916dbcbb3f70747c44a77c7bcd40155683ae19c65e1c03b4aa3499c5328201f1"
  },
  "kernelspec": {
   "display_name": "Python 3.8.10 64-bit",
   "language": "python",
   "name": "python3"
  },
  "language_info": {
   "codemirror_mode": {
    "name": "ipython",
    "version": 3
   },
   "file_extension": ".py",
   "mimetype": "text/x-python",
   "name": "python",
   "nbconvert_exporter": "python",
   "pygments_lexer": "ipython3",
   "version": "3.8.10"
  },
  "orig_nbformat": 4
 },
 "nbformat": 4,
 "nbformat_minor": 2
}
