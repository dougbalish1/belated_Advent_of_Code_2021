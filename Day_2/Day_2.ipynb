{
 "cells": [
  {
   "cell_type": "markdown",
   "metadata": {},
   "source": [
    "# Challenge 1\n",
    "Determine product of final position and depth "
   ]
  },
  {
   "cell_type": "code",
   "execution_count": 5,
   "metadata": {},
   "outputs": [
    {
     "data": {
      "text/plain": [
       "2215080"
      ]
     },
     "execution_count": 5,
     "metadata": {},
     "output_type": "execute_result"
    }
   ],
   "source": [
    "input = open('input_2.txt')\n",
    "\n",
    "pos = 0\n",
    "depth = 0\n",
    "\n",
    "for line in input:\n",
    "    dir, dist = line.split()\n",
    "    if dir == \"forward\":\n",
    "        pos += int(dist)\n",
    "    elif dir == \"up\":\n",
    "        depth -= int(dist)\n",
    "    else:\n",
    "        depth += int(dist)\n",
    "\n",
    "pos * depth"
   ]
  },
  {
   "cell_type": "markdown",
   "metadata": {},
   "source": [
    "# Challenge 2\n",
    "Determine product of final position and depth with new rules"
   ]
  },
  {
   "cell_type": "code",
   "execution_count": 6,
   "metadata": {},
   "outputs": [
    {
     "data": {
      "text/plain": [
       "1864715580"
      ]
     },
     "execution_count": 6,
     "metadata": {},
     "output_type": "execute_result"
    }
   ],
   "source": [
    "input = open('input_2.txt')\n",
    "\n",
    "pos = 0\n",
    "depth = 0\n",
    "aim = 0\n",
    "\n",
    "for line in input:\n",
    "    \n",
    "    dir, dist = line.split()\n",
    "    dist = int(dist)\n",
    "\n",
    "    if dir == \"forward\":\n",
    "        pos += dist\n",
    "        depth += aim * dist\n",
    "    elif dir == \"up\":\n",
    "        aim -= dist\n",
    "    else:\n",
    "        aim += dist\n",
    "\n",
    "pos * depth"
   ]
  },
  {
   "cell_type": "code",
   "execution_count": null,
   "metadata": {},
   "outputs": [],
   "source": []
  }
 ],
 "metadata": {
  "interpreter": {
   "hash": "916dbcbb3f70747c44a77c7bcd40155683ae19c65e1c03b4aa3499c5328201f1"
  },
  "kernelspec": {
   "display_name": "Python 3.8.10 64-bit",
   "language": "python",
   "name": "python3"
  },
  "language_info": {
   "codemirror_mode": {
    "name": "ipython",
    "version": 3
   },
   "file_extension": ".py",
   "mimetype": "text/x-python",
   "name": "python",
   "nbconvert_exporter": "python",
   "pygments_lexer": "ipython3",
   "version": "3.8.10"
  },
  "orig_nbformat": 4
 },
 "nbformat": 4,
 "nbformat_minor": 2
}
